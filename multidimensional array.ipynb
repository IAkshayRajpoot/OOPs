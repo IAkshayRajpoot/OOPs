{
 "cells": [
  {
   "cell_type": "code",
   "execution_count": 16,
   "metadata": {},
   "outputs": [
    {
     "name": "stdout",
     "output_type": "stream",
     "text": [
      "how many element\n",
      "5\n",
      "5\n",
      "4\n",
      "6\n",
      "3\n",
      "2\n",
      "array('i', [5, 4, 6, 3, 2])\n"
     ]
    }
   ],
   "source": [
    "from array import *\n",
    "a = array('i', [])\n",
    "print('how many element', )\n",
    "n=int(input())\n",
    "for  i in range(n):\n",
    "        a.append(int(input()))\n",
    "    # array library includes array methods\n",
    "print(a)"
   ]
  },
  {
   "cell_type": "code",
   "execution_count": 6,
   "metadata": {},
   "outputs": [
    {
     "name": "stdout",
     "output_type": "stream",
     "text": [
      "[0 1 2 3 4 5]\n",
      "[0 1 2]\n",
      "[3 4 5]\n",
      "0\n",
      "1\n",
      "2\n",
      "3\n",
      "4\n",
      "5\n"
     ]
    }
   ],
   "source": [
    "from numpy import *\n",
    "a = arange(6)\n",
    "print(a)\n",
    "b=a.reshape(2,3)\n",
    "for i in range(len(b)):\n",
    "    print(b[i]) # nly rows\n",
    "for i in range(len(b)):\n",
    "    for  j in range(len(b[i])):\n",
    "        print(b[i][j])"
   ]
  },
  {
   "cell_type": "code",
   "execution_count": null,
   "metadata": {},
   "outputs": [],
   "source": []
  }
 ],
 "metadata": {
  "kernelspec": {
   "display_name": "Python 3",
   "language": "python",
   "name": "python3"
  },
  "language_info": {
   "codemirror_mode": {
    "name": "ipython",
    "version": 3
   },
   "file_extension": ".py",
   "mimetype": "text/x-python",
   "name": "python",
   "nbconvert_exporter": "python",
   "pygments_lexer": "ipython3",
   "version": "3.7.4"
  }
 },
 "nbformat": 4,
 "nbformat_minor": 2
}
