{
 "cells": [
  {
   "cell_type": "code",
   "execution_count": 8,
   "metadata": {},
   "outputs": [
    {
     "name": "stdout",
     "output_type": "stream",
     "text": [
      "4 5 6\n",
      "[4, 5, 6]\n",
      "[1, 5, 6]\n",
      "56789\n",
      "\n",
      "[0, 1, 2, 3, 4, 5, 6]\n"
     ]
    }
   ],
   "source": [
    "list1=[int(x) for x in input().split()]\n",
    "print(list1)\n",
    "list1.insert(1, 1)\n",
    "list1.pop(0)\n",
    "print(list1)\n",
    "lst=range(5, 10)\n",
    "for i in lst:\n",
    "    print(i ,end='')\n",
    "print('\\n')    \n",
    "lst1=list(range(7))\n",
    "print(lst1)\n"
   ]
  },
  {
   "cell_type": "code",
   "execution_count": 15,
   "metadata": {},
   "outputs": [
    {
     "name": "stdout",
     "output_type": "stream",
     "text": [
      "how many elements 3\n",
      " enter elements 4\n",
      " enter elements 5\n",
      " enter elements 6\n",
      "[4, 5, 6]\n",
      "[6, 4, 5]\n",
      "[6, 4, 5]\n"
     ]
    }
   ],
   "source": [
    "a=[]\n",
    "n = int(input(\"how many elements \"))\n",
    "for i in range(n):\n",
    "    a.append((int(input(\" enter elements \"))))\n",
    "print(a)\n",
    "#p, m =[ int(i) for i in input(\" enter position and item to insert \").split(',')]\n",
    "#print(p , m)\n",
    "      \n",
    "        \n",
    "    \n",
    "print(a[-1:]+a[:-1])  \n",
    "a.insert(0, a.pop())\n",
    "print(a)\n",
    "    "
   ]
  },
  {
   "cell_type": "code",
   "execution_count": 17,
   "metadata": {},
   "outputs": [
    {
     "name": "stdout",
     "output_type": "stream",
     "text": [
      "enter the numbers : 2\n",
      "enter name  : ishna\n",
      "enter marks  : 100\n",
      "enter name  : akshay\n",
      "enter marks  : 60\n",
      "['ishna', 100.0, 'akshay', 60.0]\n",
      "ishna\n",
      "100.0\n",
      "akshay\n",
      "60.0\n"
     ]
    }
   ],
   "source": [
    "n= int(input('enter the numbers : ')) # storing different types of data\n",
    "a=[]\n",
    "for i in range(n):\n",
    "    name=input('enter name  : ')\n",
    "    a.append(name)\n",
    "    marks=float(input('enter marks  : '))\n",
    "    a.append(marks)\n",
    "print(a)    \n",
    "for i in a:\n",
    "    print(i)"
   ]
  },
  {
   "cell_type": "code",
   "execution_count": 20,
   "metadata": {},
   "outputs": [
    {
     "name": "stdout",
     "output_type": "stream",
     "text": [
      "enter length of list  ; 2\n",
      "enter  : 4\n",
      "enter  : \n",
      "[4, []]\n"
     ]
    }
   ],
   "source": [
    "# nested lists\n",
    "n = int(input( 'enter length of list  ; '))\n",
    "a=[]\n",
    "for i in range(n-1):\n",
    "    a.append(int(input('enter  : ')))\n",
    "    a.append(list(input('enter  : ').split()))\n",
    "print(a)    "
   ]
  },
  {
   "cell_type": "code",
   "execution_count": 32,
   "metadata": {},
   "outputs": [
    {
     "name": "stdout",
     "output_type": "stream",
     "text": [
      "entre row and coloumn :2 2\n",
      "[[0 0]\n",
      " [0 0]]\n",
      "enter : 4\n",
      "enter : 5\n",
      "enter : 6\n",
      "enter : 8\n",
      "[[4 5]\n",
      " [6 8]]\n"
     ]
    }
   ],
   "source": [
    "# multidimensional matrix\n",
    "import numpy  as np\n",
    "r , c=[int(x) for x in input('entre row and coloumn :').split()]\n",
    "m3=np.zeros((r,c), dtype=int)\n",
    "print(m3)\n",
    "\n",
    "for i in range(r):\n",
    "    for j in range(c):\n",
    "        m3[i][j]=int(input('enter : '))\n",
    "print(m3)        "
   ]
  },
  {
   "cell_type": "code",
   "execution_count": 57,
   "metadata": {},
   "outputs": [
    {
     "name": "stdout",
     "output_type": "stream",
     "text": [
      "[1, 4, 9, 16, 25, 36, 49, 64, 81, 100]\n",
      "[1, 4, 9, 16, 25, 36, 49, 64, 81, 100]\n",
      "[0, 1, 2, 3, 4, 5, 6, 7, 8, 9, 1, 2, 3, 4, 5, 6, 7, 8, 9, 10, 2, 3, 4, 5, 6, 7, 8, 9, 10, 11, 3, 4, 5, 6, 7, 8, 9, 10, 11, 12, 4, 5, 6, 7, 8, 9, 10, 11, 12, 13, 5, 6, 7, 8, 9, 10, 11, 12, 13, 14, 6, 7, 8, 9, 10, 11, 12, 13, 14, 15, 7, 8, 9, 10, 11, 12, 13, 14, 15, 16, 8, 9, 10, 11, 12, 13, 14, 15, 16, 17, 9, 10, 11, 12, 13, 14, 15, 16, 17, 18]\n",
      "[0, 1, 2, 3, 4, 5, 6, 7, 8, 9, 2, 3, 4, 5, 6, 7, 8, 9, 10, 11, 4, 5, 6, 7, 8, 9, 10, 11, 12, 13, 6, 7, 8, 9, 10, 11, 12, 13, 14, 15, 8, 9, 10, 11, 12, 13, 14, 15, 16, 17]\n",
      "[18]\n"
     ]
    }
   ],
   "source": [
    "# list comprehension\n",
    "square=[]\n",
    "for x in range(1,11):\n",
    "    square.append(x**2)\n",
    "print(square)    \n",
    "#now list comprehension\n",
    "square=[x**2 for x in range(1,11)]\n",
    "print(square)\n",
    "ss=[]\n",
    "for x in range(10):\n",
    "    for y in range(10):\n",
    "            ss.append(x+y)\n",
    "print(ss)            \n",
    "        \n",
    "\n",
    "a=[x+y for x in range(10) for y in range(10) if x%2==0]\n",
    "print(a)\n",
    "\n",
    "a2=[i for i in ss if i not in a]\n",
    "\n",
    "print(a2)"
   ]
  },
  {
   "cell_type": "code",
   "execution_count": 67,
   "metadata": {},
   "outputs": [
    {
     "name": "stdout",
     "output_type": "stream",
     "text": [
      "[[1, 'akshay'], [4, 'ishna'], [2, 'kaushiki'], [3, 'shubham']]\n",
      "([1, 'akshay'], [4, 'ishna'], [2, 'kaushiki'], [3, 'shubham'])\n",
      "[[1, 'akshay'], [4, 'ishna'], [2, 'kaushiki'], [3, 'shubham']]\n"
     ]
    }
   ],
   "source": [
    "a=[[1,'akshay'],[4,'ishna'],[2,'kaushiki'],[3,'shubham']] # sortings\n",
    "a1=sorted(a, key=lambda x:x[1]) \n",
    "print(a1)\n",
    "a2=tuple(a)\n",
    "print(a2)\n",
    "print(sorted(a2, key=lambda x : x[1]))"
   ]
  },
  {
   "cell_type": "code",
   "execution_count": 11,
   "metadata": {},
   "outputs": [
    {
     "name": "stdout",
     "output_type": "stream",
     "text": [
      " enter range2\n",
      "1 2\n",
      "3713081631934410656\n"
     ]
    }
   ],
   "source": [
    "n = int(input(\" enter range\"))\n",
    "intl = map(int, input().split(\" \"))\n",
    "tup = tuple(intl)\n",
    "h = hash(tup)\n",
    "print(h)"
   ]
  }
 ],
 "metadata": {
  "kernelspec": {
   "display_name": "Python 3",
   "language": "python",
   "name": "python3"
  },
  "language_info": {
   "codemirror_mode": {
    "name": "ipython",
    "version": 3
   },
   "file_extension": ".py",
   "mimetype": "text/x-python",
   "name": "python",
   "nbconvert_exporter": "python",
   "pygments_lexer": "ipython3",
   "version": "3.7.4"
  }
 },
 "nbformat": 4,
 "nbformat_minor": 2
}
