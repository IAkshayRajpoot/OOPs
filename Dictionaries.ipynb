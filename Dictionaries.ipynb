{
 "cells": [
  {
   "cell_type": "code",
   "execution_count": 15,
   "metadata": {},
   "outputs": [
    {
     "name": "stdout",
     "output_type": "stream",
     "text": [
      "{'name': 'akshay', 'id': 1, 'lastname': 'singh'}\n",
      "akshay\n",
      "3\n",
      "{'name': 'akshay pratap', 'id': 1, 'lastname': 'singh'}\n",
      "{'name': 'akshay pratap', 'id': 1, 'lastname': 'singh', 'mobile': 9521875314}\n",
      "{'name': 'akshay pratap', 'lastname': 'singh', 'mobile': 9521875314}\n"
     ]
    },
    {
     "data": {
      "text/plain": [
       "True"
      ]
     },
     "execution_count": 15,
     "metadata": {},
     "output_type": "execute_result"
    }
   ],
   "source": [
    "dict={'name':'akshay', 'id':1, 'lastname':'singh' }\n",
    "print(dict)\n",
    "print(dict['name'])\n",
    "print(len(dict))\n",
    "dict['name']='akshay pratap' # to modify a key's value\n",
    "print(dict)\n",
    "dict['mobile']=9521875314 #to add new key\n",
    "print(dict)\n",
    "del dict['id'] # to del a key\n",
    "print(dict)\n",
    "\n",
    "'id' not in dict\n",
    "\n",
    "'lastname' in dict"
   ]
  },
  {
   "cell_type": "code",
   "execution_count": null,
   "metadata": {},
   "outputs": [],
   "source": []
  },
  {
   "cell_type": "code",
   "execution_count": 15,
   "metadata": {},
   "outputs": [
    {
     "name": "stdout",
     "output_type": "stream",
     "text": [
      "{'name': 'akshay', 'id': 1, 'lastname': 'singh'}\n",
      "dict_keys(['name', 'id', 'lastname'])\n",
      "dict_values(['akshay', 1, 'singh'])\n",
      "dict_items([('name', 'akshay'), ('id', 1), ('lastname', 'singh')])\n",
      "{'name': 'akshay', 'id': 1, 'lastname': 'singh'}\n",
      "{'name': 'akshay', 'id': 1, 'lastname': 'singh', 'nae': 'ak'}\n",
      "{}\n"
     ]
    }
   ],
   "source": [
    "d={'name':'akshay', 'id':1, 'lastname':'singh' }\n",
    "x={'nae':'ak',}\n",
    "print(d)\n",
    "print(d.keys()) # to display only all keys\n",
    "print(d.values()) # to display all values only\n",
    "print(d.items()) #to get all key-value pairs\n",
    "d1=d.copy() #to copy a dictionary into anotherone\n",
    "print(d1)\n",
    "d.update(x) # adds all elements to dictinary d from x\n",
    "print(d)\n",
    "\n",
    "\n",
    "d.clear() #to clear a dictionary\n",
    "print(d)\n"
   ]
  },
  {
   "cell_type": "code",
   "execution_count": null,
   "metadata": {},
   "outputs": [],
   "source": [
    "# to take elements of a dictionary from keyboard \n",
    "dict = eval(input(\"Enter elements in {}: \"))\n",
    "s = sum(dict.values())\n",
    "print(s)   "
   ]
  },
  {
   "cell_type": "code",
   "execution_count": 1,
   "metadata": {},
   "outputs": [
    {
     "name": "stdout",
     "output_type": "stream",
     "text": [
      "how many elements?\n",
      "1\n",
      "enter key :1\n",
      "enter value2\n",
      "{'1': 2}\n"
     ]
    }
   ],
   "source": [
    "x={}\n",
    "print('how many elements?')\n",
    "n=int(input())\n",
    "for i in range(n):\n",
    "    print('enter key :', end='')\n",
    "    k=input()\n",
    "    print('enter value', end='')\n",
    "    v=int(input())\n",
    "    x.update({k:v})\n",
    "print(x)    "
   ]
  },
  {
   "cell_type": "code",
   "execution_count": 5,
   "metadata": {},
   "outputs": [
    {
     "name": "stdout",
     "output_type": "stream",
     "text": [
      "how many elements? 3\n",
      "enter keya\n",
      "enter value5\n",
      "enter keys\n",
      "enter value5\n",
      "enter keyd\n",
      "enter value5\n",
      "{'a': 5, 's': 5, 'd': 5}\n",
      "a\n",
      "s\n",
      "d\n",
      "5\n",
      "5\n",
      "5\n",
      "key=a value=5\n",
      "key=s value=5\n",
      "key=d value=5\n"
     ]
    }
   ],
   "source": [
    "x={}\n",
    "n=int(input(\"how many elements? \"))\n",
    "for i in range(n):\n",
    "    k=input('enter key')\n",
    "    v=int(input('enter value'))\n",
    "    x.update({k:v})\n",
    "print(x)    \n",
    "for k in x:\n",
    "    print(k)\n",
    "for k in x:\n",
    "    print(x[k])\n",
    "for k, v in x.items():\n",
    "    print('key={} value={}'.format(k, v))"
   ]
  },
  {
   "cell_type": "code",
   "execution_count": 2,
   "metadata": {},
   "outputs": [
    {
     "name": "stdout",
     "output_type": "stream",
     "text": [
      "{'b': 1, 'o': 2, 'k': 1}\n"
     ]
    }
   ],
   "source": [
    "str = \"book\"\n",
    "dict={}\n",
    "for x in str:\n",
    "        dict[x]=dict.get(x, 0)+1 #get(k,v)\n",
    "print(dict)  "
   ]
  },
  {
   "cell_type": "code",
   "execution_count": 16,
   "metadata": {},
   "outputs": [
    {
     "name": "stdout",
     "output_type": "stream",
     "text": [
      "[(10, 'red'), (15, 'blue'), (35, 'green')]\n",
      "[(15, 'blue'), (35, 'green'), (10, 'red')]\n"
     ]
    }
   ],
   "source": [
    "# sorting using lambda function and sorted()\n",
    "\n",
    "color = {10:'red', 35:'green', 15:'blue'}\n",
    "c1=sorted(color.items(), key = lambda t: t[0]) # sort using key\n",
    "print(c1)\n",
    "c2=sorted(color.items(), key=lambda t: t[1]) # sort using value\n",
    "print(c2)"
   ]
  },
  {
   "cell_type": "code",
   "execution_count": 1,
   "metadata": {},
   "outputs": [
    {
     "name": "stdout",
     "output_type": "stream",
     "text": [
      "no students  3\n",
      "name  krishna\n",
      "makrs  4\n",
      "name  5\n",
      "makrs  6\n",
      "name  arjun\n",
      "makrs  4\n",
      "{'krishna': [4.0], '5': [6.0], 'arjun': [4.0]}\n",
      "5\n",
      "5\n",
      "6.0\n"
     ]
    }
   ],
   "source": [
    "s={}\n",
    "v=[]\n",
    "n=int(input('no students  '))\n",
    "for i in range(n):\n",
    "    k=input('name  ')\n",
    "    v=list(map(float, input('makrs  ').split()))\n",
    "    s.update({k:v})\n",
    "print(s) \n",
    "name=input()    \n",
    "for i in s.keys():\n",
    "    if name==i:\n",
    "        print(i)\n",
    "        a=s[i]\n",
    "        l=len(a)\n",
    "        av=sum(a)/l\n",
    "        print(round(av,2))\n"
   ]
  },
  {
   "cell_type": "code",
   "execution_count": 13,
   "metadata": {},
   "outputs": [
    {
     "name": "stdout",
     "output_type": "stream",
     "text": [
      "no s 2\n",
      " name  ak\n",
      "mark  5\n",
      "mark  4\n",
      "mark  7\n",
      " name  is\n",
      "mark  4\n",
      "mark  5\n",
      "mark  6\n",
      "{'ak': [5.0, 4.0, 7.0, 4.0, 5.0, 6.0], 'is': [5.0, 4.0, 7.0, 4.0, 5.0, 6.0]}\n",
      "name to  is\n",
      "ak\n",
      "is\n",
      "5.17\n"
     ]
    }
   ],
   "source": [
    "import math\n",
    "n=int(input('no s '))\n",
    "x={}\n",
    "M=[]\n",
    "for i in range(n):\n",
    "    N=input(' name  ')\n",
    "    for i in range(3):\n",
    "        M.append(float(input('mark  ')))\n",
    "    x.update({N:M})\n",
    "print(x)    \n",
    "name=input('name to  ')    \n",
    "for i in x.keys():\n",
    "    print(i)\n",
    "    if name==i:\n",
    "        a=x[i]\n",
    "        l=len(a)\n",
    "        av=sum(a)/l\n",
    "        print(round(av,2))"
   ]
  },
  {
   "cell_type": "code",
   "execution_count": 7,
   "metadata": {},
   "outputs": [
    {
     "name": "stdout",
     "output_type": "stream",
     "text": [
      "2\n",
      "a 1 2 3\n",
      "s 1 4 5\n",
      "{'a': ['1', '2', '3'], 's': ['1', '4', '5']}\n",
      "dict_keys(['a', 's'])\n",
      "s\n"
     ]
    }
   ],
   "source": [
    "import math\n",
    "n=int(input())\n",
    "s={}\n",
    "for i in range(n):\n",
    "    N,m1,m2,m3=input().split()\n",
    "    M=[m1,m2,m3]\n",
    "    s[N]=M\n",
    "print(s) \n",
    "print(s.keys())\n",
    "name=input() \n",
    "  \n",
    "for i in s.keys():\n",
    "    if name==s[i]:\n",
    "        a=s[i]\n",
    "        l=len(a)\n",
    "        su=0 \n",
    "        for i in a:\n",
    "            num=float(i)\n",
    "            su+=num\n",
    "        print('%.2f'%su/l)"
   ]
  },
  {
   "cell_type": "code",
   "execution_count": 1,
   "metadata": {},
   "outputs": [
    {
     "name": "stdout",
     "output_type": "stream",
     "text": [
      "['ram=20', ' shyam=34 ', ' lakhan =49']\n",
      "<class 'str'>\n",
      "<class 'list'>\n",
      "<class 'str'>\n",
      "<class 'list'>\n",
      "<class 'str'>\n",
      "<class 'list'>\n",
      "{'ram': 20, ' shyam': 34, ' lakhan ': 49}\n"
     ]
    }
   ],
   "source": [
    "s ='ram=20, shyam=34 , lakhan =49' # converting string into dictionary\n",
    "s1=s.split(',') # split() returns a list and it will be  applied on str \n",
    "print(s1)\n",
    "s2={}\n",
    "for i in s1:\n",
    "    print(type(i))\n",
    "    rr=i.split('=')\n",
    "    print(type(rr))\n",
    "    k=rr[0]\n",
    "    v=int(rr[1])\n",
    "    s2.update({k:v})\n",
    "    \n",
    "print(s2)"
   ]
  },
  {
   "cell_type": "code",
   "execution_count": 1,
   "metadata": {},
   "outputs": [
    {
     "name": "stdout",
     "output_type": "stream",
     "text": [
      "{'ram': '20', ' shyam': '34 ', ' lakhan ': '49'}\n",
      "['ram', ' shyam', ' lakhan ']\n"
     ]
    }
   ],
   "source": [
    "s ='ram=20, shyam=34 , lakhan =49'\n",
    "lst=[]\n",
    "for i in s.split(','):\n",
    "    x=i.split('=')\n",
    "   # k=x[0]\n",
    "    #v=int(x[1])\n",
    "   # d.update({k:v})\n",
    "    lst.append(x)\n",
    "d=dict(lst)    \n",
    "print(d)  \n",
    "dd=sorted(d, key=lambda x:d.keys())\n",
    "print(dd)"
   ]
  },
  {
   "cell_type": "code",
   "execution_count": 10,
   "metadata": {},
   "outputs": [
    {
     "ename": "TypeError",
     "evalue": "'dict' object is not callable",
     "output_type": "error",
     "traceback": [
      "\u001b[0;31m---------------------------------------------------------------------------\u001b[0m",
      "\u001b[0;31mTypeError\u001b[0m                                 Traceback (most recent call last)",
      "\u001b[0;32m<ipython-input-10-c8386b0aa704>\u001b[0m in \u001b[0;36m<module>\u001b[0;34m\u001b[0m\n\u001b[1;32m      1\u001b[0m \u001b[0ml\u001b[0m\u001b[0;34m=\u001b[0m\u001b[0;34m[\u001b[0m\u001b[0;36m3\u001b[0m\u001b[0;34m,\u001b[0m\u001b[0;36m4\u001b[0m\u001b[0;34m,\u001b[0m\u001b[0;36m5\u001b[0m\u001b[0;34m,\u001b[0m\u001b[0;36m6\u001b[0m\u001b[0;34m]\u001b[0m\u001b[0;34m\u001b[0m\u001b[0;34m\u001b[0m\u001b[0m\n\u001b[1;32m      2\u001b[0m \u001b[0ml1\u001b[0m\u001b[0;34m=\u001b[0m\u001b[0;34m[\u001b[0m\u001b[0;36m10\u001b[0m\u001b[0;34m,\u001b[0m\u001b[0;36m20\u001b[0m\u001b[0;34m,\u001b[0m\u001b[0;36m53\u001b[0m\u001b[0;34m,\u001b[0m\u001b[0;36m85\u001b[0m\u001b[0;34m]\u001b[0m\u001b[0;34m\u001b[0m\u001b[0;34m\u001b[0m\u001b[0m\n\u001b[0;32m----> 3\u001b[0;31m \u001b[0md\u001b[0m\u001b[0;34m=\u001b[0m \u001b[0mdict\u001b[0m\u001b[0;34m(\u001b[0m\u001b[0mzip\u001b[0m\u001b[0;34m(\u001b[0m\u001b[0ml\u001b[0m\u001b[0;34m,\u001b[0m\u001b[0ml1\u001b[0m\u001b[0;34m)\u001b[0m\u001b[0;34m)\u001b[0m\u001b[0;34m\u001b[0m\u001b[0;34m\u001b[0m\u001b[0m\n\u001b[0m\u001b[1;32m      4\u001b[0m \u001b[0mprint\u001b[0m\u001b[0;34m(\u001b[0m\u001b[0md\u001b[0m\u001b[0;34m)\u001b[0m\u001b[0;34m\u001b[0m\u001b[0;34m\u001b[0m\u001b[0m\n",
      "\u001b[0;31mTypeError\u001b[0m: 'dict' object is not callable"
     ]
    }
   ],
   "source": [
    "l=[3,4,5,6]\n",
    "l1=[10,20,53,85]\n",
    "d= dict(zip(l,l1))\n",
    "print(d)"
   ]
  },
  {
   "cell_type": "code",
   "execution_count": 11,
   "metadata": {},
   "outputs": [
    {
     "ename": "TypeError",
     "evalue": "'dict' object is not callable",
     "output_type": "error",
     "traceback": [
      "\u001b[0;31m---------------------------------------------------------------------------\u001b[0m",
      "\u001b[0;31mTypeError\u001b[0m                                 Traceback (most recent call last)",
      "\u001b[0;32m<ipython-input-11-75d32c523a83>\u001b[0m in \u001b[0;36m<module>\u001b[0;34m\u001b[0m\n\u001b[1;32m      1\u001b[0m \u001b[0mx\u001b[0m\u001b[0;34m=\u001b[0m\u001b[0;34m[\u001b[0m\u001b[0;34m'VI'\u001b[0m\u001b[0;34m,\u001b[0m \u001b[0;34m'23'\u001b[0m\u001b[0;34m,\u001b[0m \u001b[0;34m'44'\u001b[0m\u001b[0;34m]\u001b[0m \u001b[0;31m#\u001b[0m\u001b[0;34m\u001b[0m\u001b[0;34m\u001b[0m\u001b[0m\n\u001b[0;32m----> 2\u001b[0;31m \u001b[0md\u001b[0m\u001b[0;34m=\u001b[0m\u001b[0mdict\u001b[0m\u001b[0;34m(\u001b[0m\u001b[0mx\u001b[0m\u001b[0;34m)\u001b[0m\u001b[0;34m\u001b[0m\u001b[0;34m\u001b[0m\u001b[0m\n\u001b[0m\u001b[1;32m      3\u001b[0m \u001b[0mprint\u001b[0m\u001b[0;34m(\u001b[0m\u001b[0md\u001b[0m\u001b[0;34m)\u001b[0m\u001b[0;34m\u001b[0m\u001b[0;34m\u001b[0m\u001b[0m\n",
      "\u001b[0;31mTypeError\u001b[0m: 'dict' object is not callable"
     ]
    }
   ],
   "source": [
    "x=['VI', '23', '44'] #  \n",
    "d=dict(x)\n",
    "print(d)"
   ]
  },
  {
   "cell_type": "code",
   "execution_count": 1,
   "metadata": {},
   "outputs": [
    {
     "ename": "ValueError",
     "evalue": "dictionary update sequence element #1 has length 4; 2 is required",
     "output_type": "error",
     "traceback": [
      "\u001b[0;31m---------------------------------------------------------------------------\u001b[0m",
      "\u001b[0;31mValueError\u001b[0m                                Traceback (most recent call last)",
      "\u001b[0;32m<ipython-input-1-085b38042c57>\u001b[0m in \u001b[0;36m<module>\u001b[0;34m\u001b[0m\n\u001b[1;32m      1\u001b[0m \u001b[0ml\u001b[0m\u001b[0;34m=\u001b[0m\u001b[0;34m[\u001b[0m\u001b[0;34m'vi'\u001b[0m\u001b[0;34m,\u001b[0m\u001b[0;34m'fidd'\u001b[0m\u001b[0;34m]\u001b[0m\u001b[0;34m\u001b[0m\u001b[0;34m\u001b[0m\u001b[0m\n\u001b[0;32m----> 2\u001b[0;31m \u001b[0md\u001b[0m\u001b[0;34m=\u001b[0m\u001b[0mdict\u001b[0m\u001b[0;34m(\u001b[0m\u001b[0ml\u001b[0m\u001b[0;34m)\u001b[0m\u001b[0;34m\u001b[0m\u001b[0;34m\u001b[0m\u001b[0m\n\u001b[0m\u001b[1;32m      3\u001b[0m \u001b[0mprint\u001b[0m\u001b[0;34m(\u001b[0m\u001b[0md\u001b[0m\u001b[0;34m)\u001b[0m\u001b[0;34m\u001b[0m\u001b[0;34m\u001b[0m\u001b[0m\n",
      "\u001b[0;31mValueError\u001b[0m: dictionary update sequence element #1 has length 4; 2 is required"
     ]
    }
   ],
   "source": [
    "l=['vi','fidd']\n",
    "d=dict(l)\n",
    "print(d)"
   ]
  },
  {
   "cell_type": "code",
   "execution_count": null,
   "metadata": {},
   "outputs": [
    {
     "name": "stdout",
     "output_type": "stream",
     "text": [
      "how many 2\n",
      "enter  ak 99\n",
      "enter  is 3\n",
      "ak\n",
      "ak=99\n",
      "is\n",
      "is=3\n",
      "si\n",
      "Not found\n"
     ]
    }
   ],
   "source": [
    "n=int(input('how many '))\n",
    "d={}\n",
    "for i in range(n):\n",
    "    na,no=input('enter  ').split()\n",
    "    d[na]=no\n",
    "while(True):\n",
    "    name=input()\n",
    "    for i in d.keys():\n",
    "        if name==i:\n",
    "            print('{}={}'.format(i,d[i]))\n",
    "            break\n",
    "    else:\n",
    "        print('Not found') "
   ]
  },
  {
   "cell_type": "code",
   "execution_count": 12,
   "metadata": {},
   "outputs": [
    {
     "name": "stdout",
     "output_type": "stream",
     "text": [
      "enter  5\n",
      "120\n"
     ]
    }
   ],
   "source": [
    "def fact(n):\n",
    "    if n==0:\n",
    "        return 1\n",
    "    else:\n",
    "        fac = n * fact(n-1)\n",
    "        return fac\n",
    "x=fact(int(input('enter  ')))   \n",
    "print(x)"
   ]
  }
 ],
 "metadata": {
  "kernelspec": {
   "display_name": "Python 3",
   "language": "python",
   "name": "python3"
  },
  "language_info": {
   "codemirror_mode": {
    "name": "ipython",
    "version": 3
   },
   "file_extension": ".py",
   "mimetype": "text/x-python",
   "name": "python",
   "nbconvert_exporter": "python",
   "pygments_lexer": "ipython3",
   "version": "3.7.4"
  }
 },
 "nbformat": 4,
 "nbformat_minor": 2
}
