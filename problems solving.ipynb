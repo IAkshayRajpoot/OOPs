{
 "cells": [
  {
   "cell_type": "markdown",
   "metadata": {},
   "source": [
    "# Sales by Match of socks\n",
    "\n"
   ]
  },
  {
   "cell_type": "code",
   "execution_count": 6,
   "metadata": {},
   "outputs": [
    {
     "name": "stdout",
     "output_type": "stream",
     "text": [
      "how many? 4\n",
      "enter color  1 1 1 1\n",
      "2\n"
     ]
    }
   ],
   "source": [
    "\n",
    "# Complete the sockMerchant function below.\n",
    "def sockMerchant(n, ar):\n",
    "    p=0\n",
    "    ar1={}\n",
    "    for i in range(n):\n",
    "        s = ar[i]\n",
    "        c=0\n",
    "        for j in range(n):\n",
    "            if ar[j]==s:\n",
    "                c+=1\n",
    "        ar1.update({s:c})     \n",
    "    for i in ar1.values():\n",
    "        d = i//2\n",
    "        p=p+d\n",
    "    return p    \n",
    "\n",
    "        \n",
    "\n",
    "\n",
    "\n",
    "\n",
    "n = int(input(\"how many? \"))\n",
    "\n",
    "ar = list(map(int, input(\"enter color  \").rstrip().split()))\n",
    "\n",
    "result = sockMerchant(n, ar)\n",
    "print(result)\n",
    "\n",
    "   "
   ]
  },
  {
   "cell_type": "markdown",
   "metadata": {},
   "source": [
    "# Counting Valleys \n",
    "\n"
   ]
  },
  {
   "cell_type": "code",
   "execution_count": 5,
   "metadata": {},
   "outputs": [
    {
     "name": "stdout",
     "output_type": "stream",
     "text": [
      "8\n",
      "UDDDUDUU\n",
      "1\n"
     ]
    }
   ],
   "source": [
    "import math\n",
    "import os\n",
    "import random\n",
    "import re\n",
    "import sys\n",
    "\n",
    "#\n",
    "# Complete the 'countingValleys' function below.\n",
    "#\n",
    "# The function is expected to return an INTEGER.\n",
    "# The function accepts following parameters:\n",
    "#  1. INTEGER steps\n",
    "#  2. STRING path\n",
    "#\n",
    "\n",
    "def countingValleys(steps, path):\n",
    "    # Write your code here\n",
    "    preh = 0\n",
    "    h = 0\n",
    "    c = 0\n",
    "    for i in range(steps):\n",
    "        if path[i] == 'U':\n",
    "            h+=1\n",
    "        elif path[i]== 'D':\n",
    "            h-=1\n",
    "        if h == 0 and preh <0:\n",
    "            c+=1\n",
    "        preh=h    \n",
    "    return c            \n",
    "\n",
    "\n",
    "if __name__ == '__main__':\n",
    "    \n",
    "    steps = int(input().strip())\n",
    "\n",
    "    path = input()\n",
    "\n",
    "    result = countingValleys(steps, path)\n",
    "    print(result)"
   ]
  },
  {
   "cell_type": "markdown",
   "metadata": {},
   "source": [
    "# Jumping on the Clouds\n",
    "\n"
   ]
  },
  {
   "cell_type": "code",
   "execution_count": 4,
   "metadata": {},
   "outputs": [
    {
     "name": "stdout",
     "output_type": "stream",
     "text": [
      "how many? 5\n",
      "enter  0 0 1 0 1\n",
      "5\n",
      "3\n"
     ]
    }
   ],
   "source": [
    "def jumpingOnClouds(c):\n",
    "    l = len(c)\n",
    "    print(l)\n",
    "    j =0\n",
    "    i=0\n",
    "    while i < l-1: # l-1 because u r taking i=0\n",
    "        if i+2>=l or c[i+2]==1:\n",
    "            i=i+1\n",
    "            j+=1\n",
    "        else:\n",
    "            i+=2\n",
    "            j+=1\n",
    "    return j            \n",
    "\n",
    "\n",
    "\n",
    "if __name__ == '__main__':\n",
    "    \n",
    "    n = int(input(\"how many? \"))\n",
    "\n",
    "    c = list(map(int, input(\"enter  \").rstrip().split()))\n",
    "\n",
    "    result = jumpingOnClouds(c)\n",
    "\n",
    "    print(result)\n"
   ]
  },
  {
   "cell_type": "markdown",
   "metadata": {},
   "source": [
    "# Repeated String\n",
    "\n"
   ]
  },
  {
   "cell_type": "code",
   "execution_count": 25,
   "metadata": {},
   "outputs": [
    {
     "name": "stdout",
     "output_type": "stream",
     "text": [
      "7\n"
     ]
    }
   ],
   "source": [
    "import math\n",
    "c=0\n",
    "s= 'aba'\n",
    "l=len(s)\n",
    "n=10\n",
    "nc = math.ceil(n/l)\n",
    "s1=nc*s\n",
    "for i in range(n):\n",
    "    if s1[i]=='a':\n",
    "        c=c+1\n",
    "print(c)        "
   ]
  },
  {
   "cell_type": "code",
   "execution_count": 4,
   "metadata": {},
   "outputs": [
    {
     "name": "stdout",
     "output_type": "stream",
     "text": [
      "a\n",
      "1000000000\n",
      "1000000000\n"
     ]
    }
   ],
   "source": [
    "# best solution\n",
    "\n",
    "def repeatedString(s, n):\n",
    "    n1 = s.count('a')\n",
    "    n2 = n//len(s)\n",
    "    r1 = n1*n2\n",
    "    n3 = n%len(s)\n",
    "    r2 = s[:n3].count(\"a\")\n",
    "    \n",
    "    c= r1+r2\n",
    "    \n",
    "    return c        \n",
    "\n",
    "\n",
    "\n",
    "if __name__ == '__main__':\n",
    "    \n",
    "\n",
    "    s = input()\n",
    "\n",
    "    n = int(input())\n",
    "\n",
    "    result = repeatedString(s, n)\n",
    "\n",
    "    print(result)"
   ]
  },
  {
   "cell_type": "code",
   "execution_count": null,
   "metadata": {},
   "outputs": [],
   "source": []
  },
  {
   "cell_type": "code",
   "execution_count": null,
   "metadata": {},
   "outputs": [],
   "source": []
  },
  {
   "cell_type": "code",
   "execution_count": null,
   "metadata": {},
   "outputs": [],
   "source": []
  },
  {
   "cell_type": "code",
   "execution_count": null,
   "metadata": {},
   "outputs": [],
   "source": []
  },
  {
   "cell_type": "code",
   "execution_count": null,
   "metadata": {},
   "outputs": [],
   "source": []
  },
  {
   "cell_type": "code",
   "execution_count": null,
   "metadata": {},
   "outputs": [],
   "source": []
  }
 ],
 "metadata": {
  "kernelspec": {
   "display_name": "Python 3",
   "language": "python",
   "name": "python3"
  },
  "language_info": {
   "codemirror_mode": {
    "name": "ipython",
    "version": 3
   },
   "file_extension": ".py",
   "mimetype": "text/x-python",
   "name": "python",
   "nbconvert_exporter": "python",
   "pygments_lexer": "ipython3",
   "version": "3.7.4"
  }
 },
 "nbformat": 4,
 "nbformat_minor": 2
}
