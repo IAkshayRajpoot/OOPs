{
 "cells": [
  {
   "cell_type": "code",
   "execution_count": 1,
   "metadata": {},
   "outputs": [
    {
     "name": "stdout",
     "output_type": "stream",
     "text": [
      "enter the minimum amd maximum values 4,2\n",
      "enter min and max values \n",
      "6\n",
      "-2\n",
      "8\n",
      "0.5\n",
      "2\n",
      "0\n",
      "16\n"
     ]
    }
   ],
   "source": [
    "m, n = [int(i) for i in input('enter the minimum amd maximum values ').split(',')]\n",
    "print('enter min and max values ')\n",
    "#m = int(input())\n",
    "#n = int(input())\n",
    "a=m+n\n",
    "print(a)\n",
    "s=n-m\n",
    "print(s)\n",
    "ml=m*n\n",
    "print(ml)\n",
    "d=n/m\n",
    "print(d)\n",
    "# remainder\n",
    "r=n%m\n",
    "print(r)\n",
    "#quotient\n",
    "q=n//m\n",
    "print(q)\n",
    "#exponent\n",
    "ex=n**m\n",
    "print(ex)"
   ]
  },
  {
   "cell_type": "code",
   "execution_count": 8,
   "metadata": {},
   "outputs": [
    {
     "name": "stdout",
     "output_type": "stream",
     "text": [
      "enter  5\n",
      "0b101 0o5 0x5\n"
     ]
    }
   ],
   "source": [
    "n=int(input('enter  '))\n",
    "print(bin(n),oct(n),hex(n))"
   ]
  },
  {
   "cell_type": "code",
   "execution_count": 52,
   "metadata": {},
   "outputs": [
    {
     "name": "stdout",
     "output_type": "stream",
     "text": [
      "524275\n",
      "0b1111111111111110011\n",
      "16\n"
     ]
    }
   ],
   "source": [
    "n=int(input())\n",
    "b=bin(n)\n",
    "print(b)\n",
    "l=len(b)\n",
    "c=1\n",
    "i=1\n",
    "while i<l:\n",
    "    if b[i-1]==str(1) and b[i]==str(1):\n",
    "            c=c+1\n",
    "    i+=1\n",
    "print(c)    "
   ]
  }
 ],
 "metadata": {
  "kernelspec": {
   "display_name": "Python 3",
   "language": "python",
   "name": "python3"
  },
  "language_info": {
   "codemirror_mode": {
    "name": "ipython",
    "version": 3
   },
   "file_extension": ".py",
   "mimetype": "text/x-python",
   "name": "python",
   "nbconvert_exporter": "python",
   "pygments_lexer": "ipython3",
   "version": "3.7.4"
  }
 },
 "nbformat": 4,
 "nbformat_minor": 2
}
