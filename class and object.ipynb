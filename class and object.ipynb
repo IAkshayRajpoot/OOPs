{
 "cells": [
  {
   "cell_type": "code",
   "execution_count": 5,
   "metadata": {},
   "outputs": [
    {
     "name": "stdout",
     "output_type": "stream",
     "text": [
      "akshay\n",
      "22\n",
      "771\n"
     ]
    }
   ],
   "source": [
    "class Student:\n",
    "    def __init__(self): # like a constructer\n",
    "        self.name = 'akshay'\n",
    "        self.age=22\n",
    "        self.marks=771\n",
    "    def talk(self):\n",
    "        print(self.name)\n",
    "        print(self.age)\n",
    "        print(self.marks)\n",
    "s1=Student()\n",
    "s1.talk()"
   ]
  },
  {
   "cell_type": "code",
   "execution_count": 14,
   "metadata": {},
   "outputs": [
    {
     "name": "stdout",
     "output_type": "stream",
     "text": [
      "sum is 9\n"
     ]
    }
   ],
   "source": [
    "class Sum:\n",
    "    def __init__(self, n=\" \", m=0, p=0):\n",
    "        self.result=n\n",
    "        self.fnum = m \n",
    "        self.snum = p\n",
    "    def display(self):\n",
    "        self.result=self.fnum+self.snum\n",
    "        print('sum is', self.result)\n",
    "s1 = Sum('result', 2, 7)\n",
    "s1.display()\n",
    "    "
   ]
  },
  {
   "cell_type": "code",
   "execution_count": 4,
   "metadata": {},
   "outputs": [
    {
     "name": "stdout",
     "output_type": "stream",
     "text": [
      "10 10\n",
      "11 10\n"
     ]
    }
   ],
   "source": [
    "class Sample: # instance varible are varible whoose separate copies are made in each instance\n",
    "    def __init__(self):\n",
    "        self.x=10\n",
    "    def modify(self): # instance method because it  acts on intance variable \n",
    "        self.x+=1\n",
    "s1=Sample()\n",
    "s2=Sample()\n",
    "print(s1.x, s2.x)\n",
    "s1.modify()\n",
    "print( s1.x, s2.x)"
   ]
  },
  {
   "cell_type": "code",
   "execution_count": 6,
   "metadata": {},
   "outputs": [
    {
     "name": "stdout",
     "output_type": "stream",
     "text": [
      "10 10\n",
      "11 11\n"
     ]
    }
   ],
   "source": [
    "class Sample:\n",
    "    x=10 # class varible\n",
    "    \n",
    "    @classmethod # if we don't use this decorator then it will work like instance method \n",
    "    def modify(cls):  #class method since it acts on class varible\n",
    "        cls.x+=1\n",
    "s1=Sample()\n",
    "s2=Sample()\n",
    "print(s1.x, s2.x)\n",
    "s1.modify()        \n",
    "print(s1.x, s2.x)        \n",
    "    \n",
    "    \n",
    "    "
   ]
  },
  {
   "cell_type": "code",
   "execution_count": 9,
   "metadata": {},
   "outputs": [
    {
     "name": "stdout",
     "output_type": "stream",
     "text": [
      "how many students3\n",
      "enter the name of student:  akshay\n",
      "enter marks :  500\n",
      "hiii akshay\n",
      "your marks is  500\n",
      "good but try  more\n",
      "------------------------------\n",
      "enter the name of student:  ishna rai \n",
      "enter marks :  600\n",
      "hiii ishna rai \n",
      "your marks is  600\n",
      "welldone\n",
      "------------------------------\n",
      "enter the name of student:  shubham\n",
      "enter marks :  400\n",
      "hiii shubham\n",
      "your marks is  400\n",
      "work hard\n",
      "------------------------------\n"
     ]
    }
   ],
   "source": [
    "class Student:\n",
    "    def __init__(self, n='', m=0):\n",
    "        self.name = n\n",
    "        self.marks = m\n",
    "    def display(self):\n",
    "        print('hiii', self.name)\n",
    "        print('your marks is ', self.marks)\n",
    "    def calculate(self):\n",
    "        if(self.marks>=600):\n",
    "            print('welldone')\n",
    "        elif(self.marks>=500):\n",
    "            print('good but try  more')\n",
    "        elif(self.marks >= 400):\n",
    "            print('work hard')\n",
    "        else:\n",
    "            print('u r failed')\n",
    "n = int(input('how many students'))\n",
    "i=0\n",
    "while(i<n):\n",
    "    name= input('enter the name of student:  ')\n",
    "    marks= int(input('enter marks :  '))\n",
    "    s= Student(name, marks)\n",
    "    s.display()\n",
    "    s.calculate()\n",
    "    i+=1\n",
    "    print('------------------------------')"
   ]
  },
  {
   "cell_type": "code",
   "execution_count": 6,
   "metadata": {},
   "outputs": [
    {
     "name": "stdout",
     "output_type": "stream",
     "text": [
      "sparrow flies with 2 wings \n",
      "pigeon flies with 2 wings \n"
     ]
    }
   ],
   "source": [
    "class Bird:\n",
    "    wings=2\n",
    "    \n",
    "    @classmethod\n",
    "    def fly(cls, name):\n",
    "        print('{} flies with {} wings '.format(name, cls.wings))\n",
    " \n",
    "Bird.fly('sparrow')\n",
    "Bird.fly('pigeon')\n",
    "\n",
    "\n"
   ]
  },
  {
   "cell_type": "code",
   "execution_count": 12,
   "metadata": {},
   "outputs": [
    {
     "name": "stdout",
     "output_type": "stream",
     "text": [
      "enter the number 5\n",
      "the square root of 5.0 is 2.23606797749979\n"
     ]
    }
   ],
   "source": [
    "import math\n",
    "\n",
    "class Sample:\n",
    "    @staticmethod\n",
    "    def calculate(x):\n",
    "        r=math.sqrt(x)\n",
    "        return r\n",
    "num = float(input('enter the number '))\n",
    "Sample1=Sample()\n",
    "result = Sample1.calculate(num)\n",
    "print('the square root of {} is {}'.format(num, result))"
   ]
  },
  {
   "cell_type": "code",
   "execution_count": 1,
   "metadata": {},
   "outputs": [
    {
     "name": "stdout",
     "output_type": "stream",
     "text": [
      "enter the name :  akshay\n",
      "c -check balance,  d -deposit, w -withdraw, e -exit\n",
      "enter  your choice:  d\n",
      "enter the amount10000\n",
      "your balance after deposit :   10000.0\n",
      "c -check balance,  d -deposit, w -withdraw, e -exit\n",
      "enter  your choice:  w\n",
      "enter the amount2000\n",
      "your balance after withdrawal  :   8000.0\n",
      "c -check balance,  d -deposit, w -withdraw, e -exit\n",
      "enter  your choice:  e\n"
     ]
    },
    {
     "ename": "SystemExit",
     "evalue": "",
     "output_type": "error",
     "traceback": [
      "An exception has occurred, use %tb to see the full traceback.\n",
      "\u001b[0;31mSystemExit\u001b[0m\n"
     ]
    },
    {
     "name": "stderr",
     "output_type": "stream",
     "text": [
      "/home/shubham/anaconda3/lib/python3.7/site-packages/IPython/core/interactiveshell.py:3275: UserWarning: To exit: use 'exit', 'quit', or Ctrl-D.\n",
      "  warn(\"To exit: use 'exit', 'quit', or Ctrl-D.\", stacklevel=1)\n"
     ]
    }
   ],
   "source": [
    "import sys\n",
    "class Bank:\n",
    "    def __init__(self, name='', balance=0):\n",
    "        self.name=name\n",
    "        self.balance=balance\n",
    "    def check(self):\n",
    "        return self.balance\n",
    "    def deposit(self, amount):\n",
    "        self.balance+=amount\n",
    "        return self.balance\n",
    "    def withdraw(self, amount):\n",
    "        if(self.balance>=amount):\n",
    "            self.balance-=amount\n",
    "            return self.balance\n",
    "        else:\n",
    "            print('insufficient balance')\n",
    "name = input('enter the name :  ')\n",
    "b = Bank(name)\n",
    "\n",
    "while(True):\n",
    "    print('c -check balance,  d -deposit, w -withdraw, e -exit')\n",
    "    choice=input('enter  your choice:  ')\n",
    "    \n",
    "    if choice=='d' or choice=='D':\n",
    "        amt = float(input('enter the amount'))\n",
    "        print('your balance after deposit :  ', b.deposit(amt))\n",
    "    elif(choice=='w' or choice=='W'):\n",
    "        amt = float(input('enter the amount'))\n",
    "        print('your balance after withdrawal  :  ', b.withdraw(amt))\n",
    "     \n",
    "    elif(choice=='c' or choice=='C'):\n",
    "        print('your balance :  ', b.check())\n",
    "    elif  choice== 'e' or choice== 'E' :\n",
    "           sys.exit()\n"
   ]
  },
  {
   "cell_type": "code",
   "execution_count": 14,
   "metadata": {},
   "outputs": [
    {
     "name": "stdout",
     "output_type": "stream",
     "text": [
      "Name  : akshay\n",
      "Dob  : 16/8/1998\n",
      "Address  : lucknow\n"
     ]
    }
   ],
   "source": [
    "class Person:\n",
    "    def __init__(self,name=''):\n",
    "        self.name = name\n",
    "    def display(self):\n",
    "        print('Name  :', self.name)\n",
    "    class Dob:\n",
    "        def __init__(self):\n",
    "            self.dd=16\n",
    "            self.mm=8\n",
    "            self.yy=1998\n",
    "        def display1(self):    \n",
    "            print('Dob  : {}/{}/{}'.format(self.dd, self.mm, self.yy))\n",
    "    class Address:\n",
    "        def __init__(self, address=''):\n",
    "            self.address=address\n",
    "        def display2(self):\n",
    "            print('Address  :', self.address)\n",
    "p= Person('akshay')      \n",
    "p.display()\n",
    "d=p.Dob() # inner class object\n",
    "d.display1()\n",
    "p = Person().Address('lucknow') # another way of creating  inner class object\n",
    "p.display2()"
   ]
  },
  {
   "cell_type": "code",
   "execution_count": 5,
   "metadata": {},
   "outputs": [],
   "source": [
    "class node:\n",
    "    def __init__(self, data):\n",
    "        self.data=data\n",
    "        self.Next=None\n",
    "class linkedlist:\n",
    "    self.head=None\n",
    "    self.size=0"
   ]
  },
  {
   "cell_type": "code",
   "execution_count": null,
   "metadata": {},
   "outputs": [],
   "source": [
    "class node:\n",
    "    def __init__(self, data):\n",
    "        self.data=data\n",
    "        self.Next=None\n",
    "        \n",
    "class linkedlist:\n",
    "    def __init__(self):\n",
    "        self.head=None\n",
    "    def insert(self, data):\n",
    "        newnode = node(data)\n",
    "        if self.head==None:\n",
    "            self.head=newnode\n",
    "        else:\n",
    "            temp=self.head\n",
    "            while(temp.next):\n",
    "                temp=temp.next\n",
    "            temp.next=newnode\n",
    "    def printlist(self):\n",
    "        if self.head==None:\n",
    "            print('empty')\n",
    "        else:\n",
    "            temp=self.head\n",
    "            while(temp):\n",
    "                print(temp.data)\n",
    "                temp=temp.next\n",
    "l = linkedlist()      \n",
    "n=int(input('how many  ?  '))\n",
    "for i in range(n):\n",
    "    l.insert(int(input('enter ')))\n",
    "l.printlist()    "
   ]
  },
  {
   "cell_type": "code",
   "execution_count": 2,
   "metadata": {},
   "outputs": [
    {
     "name": "stdout",
     "output_type": "stream",
     "text": [
      "1\n",
      "1 2\n",
      "1 2\n",
      "1 2\n",
      "[2, 2, 2]\n",
      "1\n",
      "1\n",
      "[1, 1, 2, 2]\n",
      "[2, 1, 1]\n"
     ]
    }
   ],
   "source": [
    "if __name__ == '__main__':\n",
    "    N = int(input())\n",
    "    a=[]\n",
    "    m, n =[int(x) for x in input().split(' ')]\n",
    "    a.insert(m,n)\n",
    "    m, n =[int(x) for x in input().split(' ')]\n",
    "    a.insert(m,n)\n",
    "    m, n =[int(x) for x in input().split(' ')]\n",
    "    a.insert(m,n)\n",
    "    print(a)\n",
    "    a.remove(a[len(a)-1])\n",
    "    a.append(int(input()))\n",
    "    a.append(int(input()))\n",
    "    a.sort()\n",
    "    print(a)\n",
    "    a.pop()\n",
    "    a.reverse()\n",
    "    print(a)\n"
   ]
  },
  {
   "cell_type": "code",
   "execution_count": 12,
   "metadata": {},
   "outputs": [
    {
     "name": "stdout",
     "output_type": "stream",
     "text": [
      "3\n",
      "10\n"
     ]
    },
    {
     "ename": "AttributeError",
     "evalue": "'HiddenValue' object has no attribute '__hd'",
     "output_type": "error",
     "traceback": [
      "\u001b[0;31m---------------------------------------------------------------------------\u001b[0m",
      "\u001b[0;31mAttributeError\u001b[0m                            Traceback (most recent call last)",
      "\u001b[0;32m<ipython-input-12-eae6fd6cd8bf>\u001b[0m in \u001b[0;36m<module>\u001b[0;34m\u001b[0m\n\u001b[1;32m      9\u001b[0m \u001b[0my\u001b[0m\u001b[0;34m.\u001b[0m\u001b[0madd\u001b[0m\u001b[0;34m(\u001b[0m\u001b[0;36m2\u001b[0m\u001b[0;34m)\u001b[0m\u001b[0;34m\u001b[0m\u001b[0;34m\u001b[0m\u001b[0m\n\u001b[1;32m     10\u001b[0m \u001b[0my\u001b[0m\u001b[0;34m.\u001b[0m\u001b[0madd\u001b[0m\u001b[0;34m(\u001b[0m\u001b[0;36m7\u001b[0m\u001b[0;34m)\u001b[0m\u001b[0;34m\u001b[0m\u001b[0;34m\u001b[0m\u001b[0m\n\u001b[0;32m---> 11\u001b[0;31m \u001b[0mprint\u001b[0m\u001b[0;34m(\u001b[0m\u001b[0my\u001b[0m\u001b[0;34m.\u001b[0m\u001b[0m__hd\u001b[0m\u001b[0;34m)\u001b[0m\u001b[0;34m\u001b[0m\u001b[0;34m\u001b[0m\u001b[0m\n\u001b[0m\u001b[1;32m     12\u001b[0m \u001b[0;34m\u001b[0m\u001b[0m\n",
      "\u001b[0;31mAttributeError\u001b[0m: 'HiddenValue' object has no attribute '__hd'"
     ]
    }
   ],
   "source": [
    "class HiddenValue:\n",
    "    __hd =1 # __ it makes value of varriable or attribute hidden\n",
    "    \n",
    "    def add(self, inc):\n",
    "        self.__hd +=inc\n",
    "        x=self.__hd\n",
    "        print(x)\n",
    "y = HiddenValue()    \n",
    "y.add(2)\n",
    "y.add(7)\n",
    "print(y.__hd)\n",
    "    "
   ]
  },
  {
   "cell_type": "code",
   "execution_count": 16,
   "metadata": {},
   "outputs": [
    {
     "name": "stdout",
     "output_type": "stream",
     "text": [
      "3\n",
      "10\n",
      "10\n",
      "<__main__.HiddenValue object at 0x7f63e0b23a90>\n",
      "[<__main__.HiddenValue object at 0x7f63e0b23a90>]\n"
     ]
    }
   ],
   "source": [
    "class HiddenValue:\n",
    "    __hd =1 # __ it makes value of varriable or attribute hidden\n",
    "    \n",
    "    def add(self, inc):\n",
    "        self.__hd +=inc\n",
    "        x=self.__hd\n",
    "        print(x)\n",
    "y = HiddenValue()    \n",
    "y.add(2)\n",
    "y.add(7)\n",
    "print(y._HiddenValue__hd)\n",
    "print(y) # object printig\n",
    "print([y])"
   ]
  },
  {
   "cell_type": "code",
   "execution_count": 1,
   "metadata": {},
   "outputs": [
    {
     "name": "stdout",
     "output_type": "stream",
     "text": [
      "100\n",
      "\n",
      "101\n",
      "\n",
      "Exit\n",
      "\n"
     ]
    }
   ],
   "source": [
    "import threading   # threading\n",
    "  \n",
    "barrier = threading.Barrier(3) # barrier obj\n",
    "  \n",
    "class thread(threading.Thread): \n",
    "    def __init__(self, thread_ID): \n",
    "        threading.Thread.__init__(self) \n",
    "        self.thread_ID = thread_ID \n",
    "    def run(self): \n",
    "        print(str(self.thread_ID) + \"\\n\") \n",
    "        barrier.wait() \n",
    "          \n",
    "thread1 = thread(100) \n",
    "thread2 = thread(101) \n",
    "  \n",
    "thread1.start() \n",
    "thread2.start() \n",
    "barrier.wait() \n",
    "  \n",
    "print(\"Exit\\n\") "
   ]
  },
  {
   "cell_type": "code",
   "execution_count": 23,
   "metadata": {},
   "outputs": [
    {
     "name": "stdout",
     "output_type": "stream",
     "text": [
      "100\n",
      "\n",
      "Parties = 3\n",
      "\n",
      "n_waiting = 0\n",
      "\n",
      "101\n",
      "\n",
      "Parties = 3\n",
      "\n",
      "n_waiting = 1\n",
      "\n",
      "False\n",
      "\n",
      "n_waiting after reset = 0\n",
      "End\n"
     ]
    }
   ],
   "source": [
    "#program to demonstrate \n",
    "# barriers in python \n",
    "  \n",
    "import threading \n",
    "  \n",
    "barrier = threading.Barrier(3) \n",
    "  \n",
    "class thread(threading.Thread): \n",
    "    def __init__(self, thread_ID): \n",
    "        threading.Thread.__init__(self) \n",
    "        self.thread_ID = thread_ID \n",
    "    def run(self): \n",
    "        print(str(self.thread_ID) + \"\\n\") \n",
    "        print(\"Parties = \" + str(barrier.parties) + \"\\n\") \n",
    "        print(\"n_waiting = \" + str(barrier.n_waiting) + \"\\n\") \n",
    "        barrier.wait() \n",
    "          \n",
    "thread1 = thread(100) \n",
    "thread2 = thread(101) \n",
    "  \n",
    "thread1.start() \n",
    "thread2.start() \n",
    "  \n",
    "barrier.wait() \n",
    "\n",
    "print(str(barrier.broken) + \"\\n\") \n",
    "barrier.reset() \n",
    "print(\"n_waiting after reset = \" + str(barrier.n_waiting)) \n",
    "barrier.abort() \n",
    "print(\"End\") "
   ]
  },
  {
   "cell_type": "code",
   "execution_count": null,
   "metadata": {},
   "outputs": [],
   "source": []
  },
  {
   "cell_type": "code",
   "execution_count": null,
   "metadata": {},
   "outputs": [],
   "source": []
  }
 ],
 "metadata": {
  "kernelspec": {
   "display_name": "Python 3",
   "language": "python",
   "name": "python3"
  },
  "language_info": {
   "codemirror_mode": {
    "name": "ipython",
    "version": 3
   },
   "file_extension": ".py",
   "mimetype": "text/x-python",
   "name": "python",
   "nbconvert_exporter": "python",
   "pygments_lexer": "ipython3",
   "version": "3.7.4"
  }
 },
 "nbformat": 4,
 "nbformat_minor": 2
}
