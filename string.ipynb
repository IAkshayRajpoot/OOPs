{
 "cells": [
  {
   "cell_type": "code",
   "execution_count": 14,
   "metadata": {},
   "outputs": [
    {
     "name": "stdout",
     "output_type": "stream",
     "text": [
      "akshay is good boy\n",
      "a\n",
      " \n",
      "akshay\n",
      "akshay is good boy\n",
      "a\n",
      "o\n",
      "b doog si yahska\n"
     ]
    }
   ],
   "source": [
    "str1=\"akshay is good boy\"\n",
    "print(str1)\n",
    "print(str1[4])\n",
    "print(str1[6]) # because at 6 there is space \n",
    "print(str1[0:6])\n",
    "print(str1[0:40])\n",
    "print(str1[::444]) # because there is nothing after 444 so just print a\n",
    "print(str1[-7])\n",
    "print(str1[-3:-19:-1])"
   ]
  },
  {
   "cell_type": "code",
   "execution_count": 17,
   "metadata": {},
   "outputs": [
    {
     "name": "stdout",
     "output_type": "stream",
     "text": [
      "enter substring  \n",
      "is\n",
      "found\n",
      "enter substring\n",
      "ishna\n",
      "false\n"
     ]
    }
   ],
   "source": [
    "# functions in string\n",
    "str1='akshay is good boy'\n",
    "print('enter substring  ')\n",
    "s=input()\n",
    "if s in str1:\n",
    "    print('found')\n",
    "else:\n",
    "    print('not found')\n",
    "print('enter substring')\n",
    "s1=input()\n",
    "if s not in str1:\n",
    "    print('true')\n",
    "else:\n",
    "    print('false')"
   ]
  },
  {
   "cell_type": "code",
   "execution_count": 20,
   "metadata": {},
   "outputs": [
    {
     "name": "stdout",
     "output_type": "stream",
     "text": [
      "akshay is good boy\n",
      "   akshay is good boy\n",
      "akshay is good boy  \n"
     ]
    }
   ],
   "source": [
    "# removing spaces\n",
    "# rstrip() #lstrip() # strip()\n",
    "str1=\"   akshay is good boy  \"\n",
    "print(str1.strip()) # removes both side spaces\n",
    "print(str1.rstrip()) # removes right side\n",
    "print(str1.lstrip()) # removes left side \n",
    "\n"
   ]
  },
  {
   "cell_type": "code",
   "execution_count": 25,
   "metadata": {},
   "outputs": [
    {
     "name": "stdout",
     "output_type": "stream",
     "text": [
      "enter substring......is\n",
      "7\n",
      "7\n",
      "enter g\n",
      "10\n",
      "10\n"
     ]
    }
   ],
   "source": [
    "# finding substrings position.\n",
    "#mainstring.find(substring.,start,end)\n",
    "\n",
    "str1='akshay is good boy'\n",
    "n=input('enter substring......')\n",
    "p=str1.find(n , 0 ,len(str1))\n",
    "print(p)\n",
    "p=str1.index(n , 0 ,len(str1))\n",
    "print(p)\n",
    "n2=input('enter ')\n",
    "p=str1.rfind(n2, 0 ,len(str1))\n",
    "print(p)\n",
    "p=str1.rindex(n2, 0 ,len(str1)) # treverse string from right to left\n",
    "print(p)"
   ]
  },
  {
   "cell_type": "code",
   "execution_count": 9,
   "metadata": {},
   "outputs": [
    {
     "name": "stdout",
     "output_type": "stream",
     "text": [
      "enter substring......akshay\n",
      "2\n",
      "enter old substringakshay\n",
      "enter new shubham\n",
      "shubham is good boy and shubham is good is studies\n"
     ]
    }
   ],
   "source": [
    "# counting sub.string \n",
    "\n",
    "str1='akshay is good boy and akshay is good is studies'\n",
    "n=input('enter substring......')\n",
    "print(str1.count(n))\n",
    "\n",
    "# replacing a string\n",
    "# mainstring.replace(old,new)\n",
    "\n",
    "o=input('enter old substring')\n",
    "n=input('enter new ')\n",
    "str2=str1.replace(o,n)\n",
    "print(str2)"
   ]
  },
  {
   "cell_type": "code",
   "execution_count": 44,
   "metadata": {},
   "outputs": [
    {
     "name": "stdout",
     "output_type": "stream",
     "text": [
      "['1=3', '2=4', '3=5', '4=6', '5']\n",
      "[\"['1\", \"3', '2\", \"4', '3\", \"5', '4\", \"6', '5']\"]\n",
      "['13', '24', '35', '46', '5']\n",
      "['13', '24', '35', '46', '5']\n",
      "['1-3', '2-4', '3-5', '4-6', '5']\n"
     ]
    }
   ],
   "source": [
    "# spliting and joining\n",
    "s='1=3,2=4,3=5,4=6,5'\n",
    "str1=s.split(',')\n",
    "print(str1) #  aftre split it will return a list\n",
    "str1=str(str1)\n",
    "str1=str1.split('=')\n",
    "print(str1)\n",
    "str2=''.join(str1) # seperator.join(string)\n",
    "print(str2)\n",
    "str2=''.join(str2)\n",
    "print(str2)\n",
    "str2='-'.join(str1)\n",
    "print(str2)"
   ]
  },
  {
   "cell_type": "code",
   "execution_count": 49,
   "metadata": {},
   "outputs": [
    {
     "name": "stdout",
     "output_type": "stream",
     "text": [
      "AKSHAY IS GOOD BOY\n",
      "akshay is good boy\n",
      "AKSHAY Is GOoD BOY\n",
      "Akshay Is Good Boy\n"
     ]
    }
   ],
   "source": [
    "# case changing\n",
    "s='akshay iS goOd boy'\n",
    "print(s.upper())\n",
    "print(s.lower())\n",
    "print(s.swapcase())\n",
    "print(s.title())"
   ]
  },
  {
   "cell_type": "code",
   "execution_count": 3,
   "metadata": {},
   "outputs": [
    {
     "name": "stdout",
     "output_type": "stream",
     "text": [
      "1,akshay,87.9\n",
      "1,akshay,87.9\n",
      "1,akshay,87.9\n"
     ]
    }
   ],
   "source": [
    "# fromating\n",
    "id=1\n",
    "name='akshay'\n",
    "res=87.9\n",
    "str='{},{},{}'.format(id,name,res)\n",
    "print(str)\n",
    "str=\"{0},{1},{2}\".format(id,name,res)\n",
    "print(str)\n",
    "str=\"{a},{b},{c}\".format(a=id,b=name,c=res)\n",
    "print(str)"
   ]
  },
  {
   "cell_type": "code",
   "execution_count": 6,
   "metadata": {},
   "outputs": [
    {
     "name": "stdout",
     "output_type": "stream",
     "text": [
      "enter string  :akshay\n",
      "<class 'list'>\n",
      "['a', 's', 'a']\n",
      "['k', 'h', 'y']\n",
      "a-s-a khy\n"
     ]
    }
   ],
   "source": [
    "n=input('enter string  :')\n",
    "l=len(n)\n",
    "s=[]\n",
    "s1=[]\n",
    "for i in range(l):\n",
    "    if i%2==0:\n",
    "        s.append(n[i])         \n",
    "    else:\n",
    "        s1.append(n[i])\n",
    "print(type(s))\n",
    "print(s)\n",
    "print(s1)\n",
    "s=''.join(s)\n",
    "s1=''.join(s1)\n",
    "print(s,s1,sep=' ')\n",
    "        "
   ]
  },
  {
   "cell_type": "code",
   "execution_count": 7,
   "metadata": {},
   "outputs": [
    {
     "name": "stdout",
     "output_type": "stream",
     "text": [
      "2\n",
      "name  akshay\n",
      "name  ishna\n",
      "asa khy\n",
      "iha sn\n"
     ]
    }
   ],
   "source": [
    "n=int(input())\n",
    "str1=[]\n",
    "for i in range(n):\n",
    "    str1.append(input('name  '))\n",
    "s=[]\n",
    "s1=[]\n",
    "str2=[]\n",
    "for i in range(0,len(str1)):\n",
    "    str2.append(str1[i])\n",
    "    str3=''.join(str2)\n",
    "    for i in range(len(str3)):\n",
    "        if i%2==0:\n",
    "            s.append(str3[i])\n",
    "        else:\n",
    "            s1.append(str3[i])\n",
    "    s3=''.join(s)\n",
    "    s4=''.join(s1)        \n",
    "    print(s3,s4)\n",
    "    s1.clear()\n",
    "    s.clear()\n",
    "    str2.clear()"
   ]
  },
  {
   "cell_type": "code",
   "execution_count": 10,
   "metadata": {},
   "outputs": [
    {
     "name": "stdout",
     "output_type": "stream",
     "text": [
      "enter age : 4\n",
      "enter name : \n",
      "u can not\n"
     ]
    }
   ],
   "source": [
    "n=int(input('enter age : '))\n",
    "s=input('enter name : ')\n",
    "if s.startswith('a' or'A') and n>=18:\n",
    "    print(' u can')\n",
    "else:\n",
    "    print('u can not')"
   ]
  },
  {
   "cell_type": "code",
   "execution_count": 8,
   "metadata": {},
   "outputs": [
    {
     "name": "stdout",
     "output_type": "stream",
     "text": [
      " enter stringakshaypratap\n",
      "enter position and leter to insert5 z\n",
      "akshazpratap\n",
      "akshaypratap\n"
     ]
    }
   ],
   "source": [
    "n = input(\" enter string\")\n",
    "p, sn = input(\"enter position and leter to insert\").split() \n",
    "p1 = int(p)\n",
    "n1 = n[:p1]+ sn + n[p1+1:]\n",
    "\n",
    "print(n1)\n",
    "print(n)"
   ]
  },
  {
   "cell_type": "code",
   "execution_count": 10,
   "metadata": {},
   "outputs": [
    {
     "name": "stdout",
     "output_type": "stream",
     "text": [
      " enter string ab\n",
      "a\n",
      "ab\n",
      "b\n"
     ]
    }
   ],
   "source": [
    "# Program to print all substrings of a given string\n",
    "\n",
    "def subs(s1):\n",
    "    l = len(s1)\n",
    "    for i in range(l):\n",
    "        temp=\"\"\n",
    "        for j in range(i, l):\n",
    "            temp+=s1[j]\n",
    "            print(temp)\n",
    "            \n",
    "if __name__ == '__main__':\n",
    "    \n",
    "    string = input(\" enter string \")\n",
    "    subs(string)"
   ]
  },
  {
   "cell_type": "code",
   "execution_count": 11,
   "metadata": {},
   "outputs": [
    {
     "name": "stdout",
     "output_type": "stream",
     "text": [
      " enter string akshayakshayaksha\n",
      "enter substring akshay\n",
      "2\n"
     ]
    }
   ],
   "source": [
    "# to count occurence of substring in string\n",
    "\n",
    "def countsub(a, b):\n",
    "    l = len(a)\n",
    "    aa = a.count(b)\n",
    "    \n",
    "    return aa\n",
    "\n",
    "if __name__ == '__main__':\n",
    "    \n",
    "    string = input(\" enter string \")\n",
    "    substring = input(\"enter substring \")\n",
    "    res = countsub(string, substring)\n",
    "    print(res)"
   ]
  },
  {
   "cell_type": "code",
   "execution_count": 1,
   "metadata": {},
   "outputs": [
    {
     "name": "stdout",
     "output_type": "stream",
     "text": [
      "akshay pratap akshay\n",
      "akshay\n",
      "2\n"
     ]
    }
   ],
   "source": [
    "def count_substring(string, sub_string):\n",
    "    l = len(string)\n",
    "    res = 0\n",
    "    for i in range(l):\n",
    "        temp=\"\"\n",
    "        for j in range(i, l):\n",
    "            temp+=string[j]\n",
    "            if temp == sub_string:\n",
    "                res+=1\n",
    "    return res\n",
    "\n",
    "if __name__ == '__main__':\n",
    "    string = input('enter string ').strip()\n",
    "    sub_string = input(\"enter substring  \").strip()\n",
    "    \n",
    "    count = count_substring(string, sub_string)\n",
    "    print(count)\n",
    "\n"
   ]
  },
  {
   "cell_type": "code",
   "execution_count": 3,
   "metadata": {},
   "outputs": [
    {
     "ename": "SyntaxError",
     "evalue": "invalid syntax (<ipython-input-3-05b582d71fc0>, line 3)",
     "output_type": "error",
     "traceback": [
      "\u001b[0;36m  File \u001b[0;32m\"<ipython-input-3-05b582d71fc0>\"\u001b[0;36m, line \u001b[0;32m3\u001b[0m\n\u001b[0;31m    print(any[char.isalnum() for char in s])\u001b[0m\n\u001b[0m                               ^\u001b[0m\n\u001b[0;31mSyntaxError\u001b[0m\u001b[0;31m:\u001b[0m invalid syntax\n"
     ]
    }
   ],
   "source": [
    "if __name__ == '__main__':\n",
    "    s = input()\n",
    "    print(any[x.isalnum() for x in s])\n",
    "    print(any[x.isalpha() for x in s])\n",
    "    print(any[x.isdigit() for x in s])\n",
    "    print(any[x.islower() for x in s])\n",
    "    print(any[x.isupper() for x in s])"
   ]
  },
  {
   "cell_type": "code",
   "execution_count": 4,
   "metadata": {},
   "outputs": [
    {
     "name": "stdout",
     "output_type": "stream",
     "text": [
      "qA2\n",
      "True\n",
      "True\n",
      "True\n",
      "True\n",
      "True\n"
     ]
    }
   ],
   "source": [
    "if __name__ == '__main__':\n",
    "    s = input()\n",
    "    print(any([x.isalnum() for x in s]))\n",
    "    print(any([x.isalpha() for x in s]))\n",
    "    print(any([x.isdigit() for x in s]))\n",
    "    print(any([x.islower() for x in s]))\n",
    "    print(any([x.isupper() for x in s]))\n",
    "    "
   ]
  },
  {
   "cell_type": "code",
   "execution_count": null,
   "metadata": {},
   "outputs": [],
   "source": []
  },
  {
   "cell_type": "code",
   "execution_count": null,
   "metadata": {},
   "outputs": [],
   "source": []
  },
  {
   "cell_type": "code",
   "execution_count": null,
   "metadata": {},
   "outputs": [],
   "source": []
  },
  {
   "cell_type": "code",
   "execution_count": null,
   "metadata": {},
   "outputs": [],
   "source": []
  },
  {
   "cell_type": "code",
   "execution_count": null,
   "metadata": {},
   "outputs": [],
   "source": []
  },
  {
   "cell_type": "code",
   "execution_count": null,
   "metadata": {},
   "outputs": [],
   "source": []
  },
  {
   "cell_type": "code",
   "execution_count": null,
   "metadata": {},
   "outputs": [],
   "source": []
  },
  {
   "cell_type": "code",
   "execution_count": null,
   "metadata": {},
   "outputs": [],
   "source": []
  }
 ],
 "metadata": {
  "kernelspec": {
   "display_name": "Python 3",
   "language": "python",
   "name": "python3"
  },
  "language_info": {
   "codemirror_mode": {
    "name": "ipython",
    "version": 3
   },
   "file_extension": ".py",
   "mimetype": "text/x-python",
   "name": "python",
   "nbconvert_exporter": "python",
   "pygments_lexer": "ipython3",
   "version": "3.7.4"
  }
 },
 "nbformat": 4,
 "nbformat_minor": 2
}
