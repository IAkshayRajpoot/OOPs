{
 "cells": [
  {
   "cell_type": "code",
   "execution_count": 7,
   "metadata": {},
   "outputs": [
    {
     "name": "stdout",
     "output_type": "stream",
     "text": [
      "[1 2 3] \n",
      "\n",
      "[[1 2 3]\n",
      " [4 5 6]] \n",
      "\n",
      "[[[1 2 3]\n",
      "  [4 5 6]]\n",
      "\n",
      " [[7 8 9]\n",
      "  [1 5 9]]] \n",
      "\n",
      "1\n",
      "2\n",
      "3\n",
      "(3,)\n",
      "(2, 3)\n",
      "[[1 2]\n",
      " [3 4]\n",
      " [5 6]]\n",
      "\n",
      "\n",
      "3\n",
      "6\n",
      "12\n",
      "\n",
      "\n",
      "8\n",
      "8\n",
      "8\n",
      "\n",
      "\n",
      "int64\n",
      "\n",
      "\n",
      "96\n",
      "\n",
      "\n",
      "[[1 2]\n",
      " [3 4]\n",
      " [5 6]] \n",
      "\n",
      "[1 2 3 4 5 6]\n",
      "[1 2 3]\n"
     ]
    }
   ],
   "source": [
    "from numpy import *\n",
    "a=array([1,2,3]) #1D\n",
    "print(a, '\\n')\n",
    "b=array([[1,2,3], [4,5,6]]) #2D\n",
    "print(b, '\\n')\n",
    "c=array([[[1,2,3],[4,5,6]], [[7,8,9], [1,5,9]]]) #3D\n",
    "print(c, '\\n')\n",
    "\n",
    "print(a.ndim) # ndim represents number of dimensions\n",
    "print(b.ndim)\n",
    "print(c.ndim)\n",
    "\n",
    "print(a.shape)\n",
    "print(b.shape) # shape gives shape of array for 1D num of elements and for 2D (number of rows,number of coloums)\n",
    "b.shape=(3, 2) # also chages the shape of array\n",
    "print(b)\n",
    "print('\\n')\n",
    "print(a.size)\n",
    "print(b.size) # size gives total number of elements\n",
    "print(c.size)\n",
    "print('\\n')\n",
    "print(a.itemsize)\n",
    "print(b.itemsize) #itemsize gives the memory size of the array element in bytes\n",
    "print(c.itemsize)\n",
    "print('\\n')\n",
    "print(b.dtype) #dtype gives datatype of elements\n",
    "print('\\n')\n",
    "print(c.nbytes) # nbytes gives the total number of bytes occupied by an array\n",
    "print('\\n')\n",
    "b=b.reshape(3,2) # reshape() method changes the shape of an array\n",
    "print(b, '\\n')\n",
    "print(b.flatten())# flatten() method converts 2D into 1D\n"
   ]
  },
  {
   "cell_type": "code",
   "execution_count": null,
   "metadata": {},
   "outputs": [],
   "source": []
  }
 ],
 "metadata": {
  "kernelspec": {
   "display_name": "Python 3",
   "language": "python",
   "name": "python3"
  },
  "language_info": {
   "codemirror_mode": {
    "name": "ipython",
    "version": 3
   },
   "file_extension": ".py",
   "mimetype": "text/x-python",
   "name": "python",
   "nbconvert_exporter": "python",
   "pygments_lexer": "ipython3",
   "version": "3.7.4"
  }
 },
 "nbformat": 4,
 "nbformat_minor": 2
}
