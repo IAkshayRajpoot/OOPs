{
 "cells": [
  {
   "cell_type": "markdown",
   "metadata": {},
   "source": [
    "# to take multiple input"
   ]
  },
  {
   "cell_type": "code",
   "execution_count": 12,
   "metadata": {},
   "outputs": [
    {
     "name": "stdout",
     "output_type": "stream",
     "text": [
      "4 5\n",
      "4 5\n"
     ]
    }
   ],
   "source": [
    "#x, y = input().split()\n",
    "x, y = map(int, input().split())\n",
    "#x, y = input(), input()\n",
    "#x, y = [int(x), int(y)]\n",
    "#x, y =[int(x) for x in input().split()]\n",
    "print(x, y)"
   ]
  },
  {
   "cell_type": "code",
   "execution_count": 6,
   "metadata": {},
   "outputs": [
    {
     "name": "stdout",
     "output_type": "stream",
     "text": [
      "enter elements\n",
      "4\n",
      "5\n",
      "sum 9\n"
     ]
    }
   ],
   "source": [
    "def sum():\n",
    "    print(\"enter elements\")\n",
    "    a = int(input())\n",
    "    b = int(input())\n",
    "    c =  a+b\n",
    "    print(\"sum\", c)\n",
    "sum()"
   ]
  },
  {
   "cell_type": "code",
   "execution_count": 4,
   "metadata": {},
   "outputs": [
    {
     "name": "stdout",
     "output_type": "stream",
     "text": [
      "     1     2     3     4     5     6     7     8     9    10\n",
      "     2     4     6     8    10    12    14    16    18    20\n",
      "     3     6     9    12    15    18    21    24    27    30\n",
      "     4     8    12    16    20    24    28    32    36    40\n",
      "     5    10    15    20    25    30    35    40    45    50\n",
      "     6    12    18    24    30    36    42    48    54    60\n",
      "     7    14    21    28    35    42    49    56    63    70\n",
      "     8    16    24    32    40    48    56    64    72    80\n",
      "     9    18    27    36    45    54    63    72    81    90\n",
      "    10    20    30    40    50    60    70    80    90   100\n"
     ]
    }
   ],
   "source": [
    "# table \n",
    "for i in range(1,11):\n",
    "    for j in range(1,11):\n",
    "        print(\"{:6}\".format(j*i),end='') # {space}\n",
    "    print()    "
   ]
  },
  {
   "cell_type": "code",
   "execution_count": 4,
   "metadata": {},
   "outputs": [
    {
     "name": "stdout",
     "output_type": "stream",
     "text": [
      "enter the number of which u want to find factorial\n",
      "5\n"
     ]
    },
    {
     "data": {
      "text/plain": [
       "120"
      ]
     },
     "execution_count": 4,
     "metadata": {},
     "output_type": "execute_result"
    }
   ],
   "source": [
    "def fact_Rec(n):\n",
    "    if n==0:\n",
    "        result=1\n",
    "    else:\n",
    "        result = n*fact_Rec(n-1)\n",
    "    return result\n",
    "    print(result)\n",
    "    print('fact is of {} is {}'.format(n, fact_Rec(n)))\n",
    "print('enter the number of which u want to find factorial')\n",
    "n = int(input())   \n",
    "fact_Rec(n)    \n"
   ]
  },
  {
   "cell_type": "code",
   "execution_count": null,
   "metadata": {},
   "outputs": [
    {
     "name": "stdout",
     "output_type": "stream",
     "text": [
      "enter the number \n"
     ]
    }
   ],
   "source": [
    "def fact():\n",
    "    prod=1\n",
    "    print(\"enter the number \")\n",
    "    a = int(input())\n",
    "    while(a>0):\n",
    "        prod = prod * a\n",
    "        a-=1\n",
    "    print(prod)\n",
    "fact()"
   ]
  },
  {
   "cell_type": "code",
   "execution_count": 1,
   "metadata": {},
   "outputs": [
    {
     "name": "stdout",
     "output_type": "stream",
     "text": [
      "enter elements\n",
      "4\n",
      "5\n",
      "sum 9\n",
      "sub -1\n"
     ]
    }
   ],
   "source": [
    "def mult_return_fun():\n",
    "    print(\"enter elements\")\n",
    "    a= int(input())\n",
    "    b= int(input())\n",
    "    c= a+b\n",
    "    d=a-b\n",
    "    return c, d\n",
    "x, y=mult_return_fun()\n",
    "print(\"sum\", x)\n",
    "print(\"sub\", y)"
   ]
  },
  {
   "cell_type": "code",
   "execution_count": 2,
   "metadata": {},
   "outputs": [
    {
     "name": "stdout",
     "output_type": "stream",
     "text": [
      "3\n"
     ]
    },
    {
     "data": {
      "text/plain": [
       "'hai 3'"
      ]
     },
     "execution_count": 2,
     "metadata": {},
     "output_type": "execute_result"
    }
   ],
   "source": [
    "def display():\n",
    "    a = str(input())\n",
    "    return 'hai ' + a\n",
    "display()"
   ]
  },
  {
   "cell_type": "code",
   "execution_count": 3,
   "metadata": {},
   "outputs": [
    {
     "name": "stdout",
     "output_type": "stream",
     "text": [
      "akshay\n"
     ]
    },
    {
     "data": {
      "text/plain": [
       "'how r uakshay'"
      ]
     },
     "execution_count": 3,
     "metadata": {},
     "output_type": "execute_result"
    }
   ],
   "source": [
    "def display():\n",
    "    a = input()\n",
    "    def message():\n",
    "        return 'how r u'\n",
    "    return message()+  a\n",
    "display()"
   ]
  },
  {
   "cell_type": "code",
   "execution_count": 4,
   "metadata": {},
   "outputs": [
    {
     "name": "stdout",
     "output_type": "stream",
     "text": [
      "ak\n"
     ]
    },
    {
     "data": {
      "text/plain": [
       "'how r u? ak'"
      ]
     },
     "execution_count": 4,
     "metadata": {},
     "output_type": "execute_result"
    }
   ],
   "source": [
    "def display(message):\n",
    "    return 'how r u? '+ message\n",
    "def message():\n",
    "    a = input()\n",
    "    return(a)\n",
    "display(message())"
   ]
  },
  {
   "cell_type": "code",
   "execution_count": 6,
   "metadata": {},
   "outputs": [
    {
     "name": "stdout",
     "output_type": "stream",
     "text": [
      "formal arguments 5\n",
      "sum of all numbers  15\n",
      "formal arguments 5\n",
      "sum of all numbers  18\n",
      "formal arguments 1\n",
      "sum of all numbers  25\n"
     ]
    }
   ],
   "source": [
    "# variable length arguments\n",
    "def add(frag, *args): # *args can store value from 0 to n length\n",
    "    print('formal arguments', frag)\n",
    "    sum=0\n",
    "    for i in args:\n",
    "        sum=sum+i\n",
    "    print('sum of all numbers ', frag+sum)    \n",
    "add(5, 10)    \n",
    "add(5, 10, 3)    \n",
    "add(1, 2, 6, 9, 7)"
   ]
  },
  {
   "cell_type": "code",
   "execution_count": 7,
   "metadata": {},
   "outputs": [
    {
     "name": "stdout",
     "output_type": "stream",
     "text": [
      "formal argument 4\n",
      "key = name, value = akshay\n"
     ]
    }
   ],
   "source": [
    "#keyword variable length arguments\n",
    "def display(frag,**kwargs): \n",
    "    print('formal argument', frag)\n",
    "    for x, y in kwargs.items(): # items() will give pairs of items\n",
    "        print('key = {}, value = {}'.format(x, y))\n",
    "#m={\"ak\":10, \"ish\":9}\n",
    "#display(**m) \n",
    "display(4, name='akshay')"
   ]
  },
  {
   "cell_type": "code",
   "execution_count": 1,
   "metadata": {},
   "outputs": [
    {
     "name": "stdout",
     "output_type": "stream",
     "text": [
      "enter number of disks2\n",
      "move disk 1 from pole A to pole B\n",
      "move disk 2 from pole A to pole c\n",
      "move disk 1 from pole B to pole c\n"
     ]
    }
   ],
   "source": [
    "# recusive function to solve tower of hanoi\n",
    "def tower(n, a, b, c):\n",
    "    if n==1:\n",
    "        print('move disk %i from pole %s to pole %s' %(n, a, c))\n",
    "    else:\n",
    "        tower(n-1, a, c, b) # move disk from beg to aux\n",
    "        print('move disk %i from pole %s to pole %s' %(n, a, c))\n",
    "        tower(n-1, b, a, c) # move disk from aux to end\n",
    "        \n",
    "n = int(input(\"enter number of disks\"))        \n",
    "tower(n, 'A', 'B', 'c')    "
   ]
  },
  {
   "cell_type": "code",
   "execution_count": 8,
   "metadata": {},
   "outputs": [
    {
     "name": "stdout",
     "output_type": "stream",
     "text": [
      "enter\n",
      "4\n",
      "5\n",
      "7\n",
      "9\n",
      "[4, 5, 7, 9]\n",
      "25\n"
     ]
    }
   ],
   "source": [
    "def sum(*args):\n",
    "    lst=[]\n",
    "    print('enter')\n",
    "    for i in range(4):\n",
    "        lst.append(int(input()))\n",
    "    print(lst) \n",
    "    args=lst\n",
    "    sum=0\n",
    "    for i in args:\n",
    "        sum+=i\n",
    "    print(sum)    \n",
    "sum()    "
   ]
  },
  {
   "cell_type": "code",
   "execution_count": 2,
   "metadata": {},
   "outputs": [
    {
     "name": "stdout",
     "output_type": "stream",
     "text": [
      "enter the numbers with , space\n",
      "1,2,3,4,5\n",
      "[1, 2, 3, 4, 5]\n",
      "length of lst is 5\n",
      "sum 10\n",
      "avg 2.0\n"
     ]
    }
   ],
   "source": [
    "def cal():\n",
    "    print('enter the numbers with , space')\n",
    "    \n",
    "    lst= [int(x) for x in input().split(',')]\n",
    "    \n",
    "    print(lst)\n",
    "    n=len(lst)\n",
    "    print('length of lst is', n )\n",
    "    sum=0\n",
    "    for i in range(n):\n",
    "        sum+=i\n",
    "        avg=sum/n\n",
    "    return sum, avg\n",
    "\n",
    "\n",
    "\n",
    "x, y =cal()\n",
    "print('sum', x)\n",
    "print('avg', y)"
   ]
  },
  {
   "cell_type": "code",
   "execution_count": 21,
   "metadata": {},
   "outputs": [
    {
     "name": "stdout",
     "output_type": "stream",
     "text": [
      "25\n",
      "enter values to calculate4,8\n",
      "sum =  12\n",
      "max 8\n"
     ]
    }
   ],
   "source": [
    "# lambda function to calculate an expression\n",
    "f = lambda x:x*x\n",
    "value = f(5)\n",
    "print(value)\n",
    "f1=lambda x, y:x if x>y else y\n",
    "f=lambda x,y:x+y\n",
    "m, n= [int(x) for x in input(\"enter values to calculate\").split(',')]\n",
    "val=f(m, n)\n",
    "max=f1(m, n)\n",
    "print('sum = ', val)\n",
    "print('max', max)\n",
    "\n"
   ]
  },
  {
   "cell_type": "code",
   "execution_count": 2,
   "metadata": {},
   "outputs": [
    {
     "name": "stdout",
     "output_type": "stream",
     "text": [
      "enter the elements of list\n",
      "2,9,3,7,5,1,4\n",
      "[2, 9, 3, 7, 5, 1, 4]\n",
      "[2, 4]\n",
      "now use of lambda function\n",
      "[2, 4]\n"
     ]
    }
   ],
   "source": [
    "def is_even(x):\n",
    "    if x%2==0:\n",
    "        return True\n",
    "    else:\n",
    "        return False\n",
    "print('enter the elements of list')\n",
    "lst=[int(x) for x in input().split(',')] \n",
    "print(lst)\n",
    "\n",
    "# call filter function\n",
    "# filter(function, sequence)\n",
    "\n",
    "lst1 = list(filter(is_even, lst))\n",
    "print(lst1)\n",
    "print('now use of lambda function')\n",
    "\n",
    "lst2 = list(filter(lambda x:(x%2==0), lst))\n",
    "print(lst2)"
   ]
  },
  {
   "cell_type": "code",
   "execution_count": 3,
   "metadata": {},
   "outputs": [
    {
     "name": "stdout",
     "output_type": "stream",
     "text": [
      "enter the elements1,2,5,3\n",
      "[2, 4, 10, 6]\n",
      "[1, 4, 25, 9]\n",
      "[3, 8, 35, 15]\n"
     ]
    }
   ],
   "source": [
    "# map()\n",
    "def sum(x):\n",
    "    return x+x\n",
    "lst = [int(x) for x in input('enter the elements').split(',')]\n",
    "\n",
    "lst1=list(map(sum, lst))\n",
    "print(lst1)\n",
    "\n",
    "lst2=list(map(lambda x:x*x, lst))\n",
    "print(lst2)\n",
    "\n",
    "lst3=list(map(lambda x, y:x+y, lst1,lst2 ))\n",
    "print(lst3)"
   ]
  },
  {
   "cell_type": "code",
   "execution_count": 7,
   "metadata": {},
   "outputs": [
    {
     "name": "stdout",
     "output_type": "stream",
     "text": [
      "enter the elements with , space1,5,2,3\n",
      "30\n"
     ]
    }
   ],
   "source": [
    "#reduce()\n",
    "from functools import *\n",
    "lst=[int(x) for x in input(\"enter the elements with , space\").split(',')]\n",
    "res=reduce(lambda x, y:x*y, lst)\n",
    "print(res)"
   ]
  },
  {
   "cell_type": "code",
   "execution_count": 3,
   "metadata": {},
   "outputs": [
    {
     "name": "stdout",
     "output_type": "stream",
     "text": [
      "1\n"
     ]
    }
   ],
   "source": [
    "def gcd(a, b): # to find HCF of any number \n",
    "    if a==0:\n",
    "       return b\n",
    "    return gcd(b%a, a)\n",
    "a= 13\n",
    "b= 10\n",
    "print(gcd(a, b))"
   ]
  },
  {
   "cell_type": "code",
   "execution_count": 1,
   "metadata": {},
   "outputs": [
    {
     "name": "stdout",
     "output_type": "stream",
     "text": [
      "ENTER  4,5,6\n",
      "4 5 6\n"
     ]
    }
   ],
   "source": [
    "N, M, P =[int(x) for x in input('ENTER  ').split(\",\")]\n",
    "print(N , M, P)"
   ]
  },
  {
   "cell_type": "code",
   "execution_count": 1,
   "metadata": {},
   "outputs": [
    {
     "name": "stdout",
     "output_type": "stream",
     "text": [
      "enter   4 4 4\n",
      "enter  4 4 4 4 4 4  4\n",
      "enter   4 4 4  4 4 4\n"
     ]
    },
    {
     "ename": "AttributeError",
     "evalue": "'list' object has no attribute 'reshape'",
     "output_type": "error",
     "traceback": [
      "\u001b[0;31m---------------------------------------------------------------------------\u001b[0m",
      "\u001b[0;31mAttributeError\u001b[0m                            Traceback (most recent call last)",
      "\u001b[0;32m<ipython-input-1-ed478e3a227d>\u001b[0m in \u001b[0;36m<module>\u001b[0;34m\u001b[0m\n\u001b[1;32m      3\u001b[0m \u001b[0mlist1\u001b[0m\u001b[0;34m=\u001b[0m\u001b[0;34m[\u001b[0m\u001b[0mint\u001b[0m\u001b[0;34m(\u001b[0m\u001b[0mx\u001b[0m\u001b[0;34m)\u001b[0m \u001b[0;32mfor\u001b[0m \u001b[0mx\u001b[0m \u001b[0;32min\u001b[0m \u001b[0minput\u001b[0m\u001b[0;34m(\u001b[0m\u001b[0;34m'enter  '\u001b[0m\u001b[0;34m)\u001b[0m\u001b[0;34m.\u001b[0m\u001b[0msplit\u001b[0m\u001b[0;34m(\u001b[0m\u001b[0;34m)\u001b[0m\u001b[0;34m]\u001b[0m\u001b[0;34m\u001b[0m\u001b[0;34m\u001b[0m\u001b[0m\n\u001b[1;32m      4\u001b[0m \u001b[0mstr2\u001b[0m\u001b[0;34m=\u001b[0m\u001b[0;34m[\u001b[0m\u001b[0mint\u001b[0m\u001b[0;34m(\u001b[0m\u001b[0mx\u001b[0m\u001b[0;34m)\u001b[0m \u001b[0;32mfor\u001b[0m \u001b[0mx\u001b[0m \u001b[0;32min\u001b[0m \u001b[0minput\u001b[0m\u001b[0;34m(\u001b[0m\u001b[0;34m'enter  '\u001b[0m\u001b[0;34m)\u001b[0m\u001b[0;34m.\u001b[0m\u001b[0msplit\u001b[0m\u001b[0;34m(\u001b[0m\u001b[0;34m)\u001b[0m\u001b[0;34m]\u001b[0m\u001b[0;34m\u001b[0m\u001b[0;34m\u001b[0m\u001b[0m\n\u001b[0;32m----> 5\u001b[0;31m \u001b[0ma1\u001b[0m \u001b[0;34m=\u001b[0m \u001b[0mlist1\u001b[0m\u001b[0;34m.\u001b[0m\u001b[0mreshape\u001b[0m\u001b[0;34m(\u001b[0m\u001b[0mN\u001b[0m\u001b[0;34m,\u001b[0m\u001b[0mP\u001b[0m\u001b[0;34m)\u001b[0m\u001b[0;34m\u001b[0m\u001b[0;34m\u001b[0m\u001b[0m\n\u001b[0m\u001b[1;32m      6\u001b[0m \u001b[0ma2\u001b[0m \u001b[0;34m=\u001b[0m \u001b[0mstr2\u001b[0m\u001b[0;34m.\u001b[0m\u001b[0mreshape\u001b[0m\u001b[0;34m(\u001b[0m\u001b[0mM\u001b[0m\u001b[0;34m,\u001b[0m\u001b[0mP\u001b[0m\u001b[0;34m)\u001b[0m\u001b[0;34m\u001b[0m\u001b[0;34m\u001b[0m\u001b[0m\n\u001b[1;32m      7\u001b[0m \u001b[0mprint\u001b[0m\u001b[0;34m(\u001b[0m\u001b[0mnumpy\u001b[0m\u001b[0;34m.\u001b[0m\u001b[0mconcatenate\u001b[0m\u001b[0;34m(\u001b[0m\u001b[0;34m(\u001b[0m\u001b[0ma1\u001b[0m\u001b[0;34m,\u001b[0m\u001b[0ma2\u001b[0m\u001b[0;34m)\u001b[0m\u001b[0;34m,\u001b[0m \u001b[0maxis\u001b[0m\u001b[0;34m=\u001b[0m\u001b[0;36m0\u001b[0m\u001b[0;34m)\u001b[0m\u001b[0;34m)\u001b[0m\u001b[0;34m\u001b[0m\u001b[0;34m\u001b[0m\u001b[0m\n",
      "\u001b[0;31mAttributeError\u001b[0m: 'list' object has no attribute 'reshape'"
     ]
    }
   ],
   "source": [
    "import numpy\n",
    "N ,M,P=[int(x) for x in input('enter  ').split()]\n",
    "list1=[int(x) for x in input('enter  ').split()]\n",
    "str2=[int(x) for x in input('enter  ').split()]\n",
    "a1 = list1.reshape(N,P)\n",
    "a2 = str2.reshape(M,P)\n",
    "print(numpy.concatenate((a1,a2), axis=0))"
   ]
  },
  {
   "cell_type": "code",
   "execution_count": 17,
   "metadata": {},
   "outputs": [
    {
     "name": "stdout",
     "output_type": "stream",
     "text": [
      "how many ? : 9\n",
      "0\n",
      "1\n",
      "1\n",
      "2\n",
      "3\n",
      "5\n",
      "8\n",
      "13\n",
      "21\n"
     ]
    }
   ],
   "source": [
    "# fibonacci series\n",
    "\n",
    "def fib(n):\n",
    "    a=0\n",
    "    b=1\n",
    "    if n==1:\n",
    "        print(a)\n",
    "    elif n==2:\n",
    "        print(a ,'\\n',b, sep='' )\n",
    "    else:\n",
    "        print(a)\n",
    "        print(b)\n",
    "        for i in range(2,n):\n",
    "            c=a+b\n",
    "            a=b\n",
    "            b=c\n",
    "            print(c)\n",
    "n=int(input('how many ? : '))  \n",
    "fib(n)"
   ]
  },
  {
   "cell_type": "code",
   "execution_count": 7,
   "metadata": {},
   "outputs": [
    {
     "name": "stdout",
     "output_type": "stream",
     "text": [
      " what number? 3\n"
     ]
    },
    {
     "data": {
      "text/plain": [
       "2"
      ]
     },
     "execution_count": 7,
     "metadata": {},
     "output_type": "execute_result"
    }
   ],
   "source": [
    "# fibonacci number using recursion\n",
    "\n",
    "def fibo(n):\n",
    "    if n==0:\n",
    "        return 0\n",
    "    elif n ==1:\n",
    "        return 1\n",
    "    else:\n",
    "        return fibo(n-1)+fibo(n-2)\n",
    "    \n",
    "        \n",
    "    \n",
    "n=int(input(\" what number? \")) \n",
    "fibo(n)\n",
    "        "
   ]
  },
  {
   "cell_type": "code",
   "execution_count": 5,
   "metadata": {},
   "outputs": [
    {
     "name": "stdout",
     "output_type": "stream",
     "text": [
      "upto what ? : 5\n",
      "2\n",
      "3\n",
      "4\n",
      "5\n"
     ]
    }
   ],
   "source": [
    "# prime number \n",
    "n=int(input('upto what ? : '))\n",
    "for num in range(2,n+1):\n",
    "    for i in range(2, num):\n",
    "        if (num%i)==0:\n",
    "            break\n",
    "    else:\n",
    "        print(num)"
   ]
  },
  {
   "cell_type": "code",
   "execution_count": 11,
   "metadata": {},
   "outputs": [
    {
     "name": "stdout",
     "output_type": "stream",
     "text": [
      "enter 4\n",
      "composite number\n"
     ]
    }
   ],
   "source": [
    "n=int(input('enter '))\n",
    "for i in range(2,n):\n",
    "    if n%i==0:\n",
    "        print('composite number')\n",
    "        break\n",
    "else:\n",
    "    print('prime')"
   ]
  }
 ],
 "metadata": {
  "kernelspec": {
   "display_name": "Python 3",
   "language": "python",
   "name": "python3"
  },
  "language_info": {
   "codemirror_mode": {
    "name": "ipython",
    "version": 3
   },
   "file_extension": ".py",
   "mimetype": "text/x-python",
   "name": "python",
   "nbconvert_exporter": "python",
   "pygments_lexer": "ipython3",
   "version": "3.7.4"
  }
 },
 "nbformat": 4,
 "nbformat_minor": 2
}
